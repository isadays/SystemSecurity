{
  "nbformat": 4,
  "nbformat_minor": 0,
  "metadata": {
    "colab": {
      "provenance": []
    },
    "kernelspec": {
      "name": "python3",
      "display_name": "Python 3"
    },
    "language_info": {
      "name": "python"
    }
  },
  "cells": [
    {
      "cell_type": "code",
      "execution_count": 1,
      "metadata": {
        "colab": {
          "base_uri": "https://localhost:8080/"
        },
        "id": "r8iij-6uvx_8",
        "outputId": "ed019bcd-eb03-4bab-917b-607d8580fe92"
      },
      "outputs": [
        {
          "output_type": "stream",
          "name": "stdout",
          "text": [
            "Collecting qutip\n",
            "  Downloading qutip-4.7.5-cp310-cp310-manylinux_2_17_x86_64.manylinux2014_x86_64.whl (16.3 MB)\n",
            "\u001b[2K     \u001b[90m━━━━━━━━━━━━━━━━━━━━━━━━━━━━━━━━━━━━━━━━\u001b[0m \u001b[32m16.3/16.3 MB\u001b[0m \u001b[31m4.7 MB/s\u001b[0m eta \u001b[36m0:00:00\u001b[0m\n",
            "\u001b[?25hRequirement already satisfied: numpy>=1.16.6 in /usr/local/lib/python3.10/dist-packages (from qutip) (1.25.2)\n",
            "Requirement already satisfied: scipy>=1.0 in /usr/local/lib/python3.10/dist-packages (from qutip) (1.11.4)\n",
            "Requirement already satisfied: packaging in /usr/local/lib/python3.10/dist-packages (from qutip) (23.2)\n",
            "Installing collected packages: qutip\n",
            "Successfully installed qutip-4.7.5\n"
          ]
        }
      ],
      "source": [
        "!pip install qutip"
      ]
    },
    {
      "cell_type": "code",
      "source": [
        "import matplotlib.pyplot as plt\n",
        "import numpy as np\n",
        "from qutip import *"
      ],
      "metadata": {
        "colab": {
          "base_uri": "https://localhost:8080/"
        },
        "id": "CIo4kaq9wFqC",
        "outputId": "b755ac0b-4872-4ae5-8825-0ad1ff6e2cdf"
      },
      "execution_count": 2,
      "outputs": [
        {
          "output_type": "stream",
          "name": "stderr",
          "text": [
            "/usr/local/lib/python3.10/dist-packages/qutip/__init__.py:66: UserWarning: The new version of Cython, (>= 3.0.0) is not supported.\n",
            "  warnings.warn(\n"
          ]
        }
      ]
    },
    {
      "cell_type": "markdown",
      "source": [],
      "metadata": {
        "id": "0oJR8HY8xgWR"
      }
    },
    {
      "cell_type": "markdown",
      "source": [
        "Reference:  [Qutip lecture: Superconducting Josephson charge qubit](https://github.com/jrjohansson/qutip-lectures/blob/master/Lecture-11-Charge-Qubits.ipynb)"
      ],
      "metadata": {
        "id": "DIXXTrk8waT_"
      }
    },
    {
      "cell_type": "markdown",
      "source": [
        " Introduction\n",
        "\n",
        " The Hamiltonian for a Josephson charge qubit is,\n",
        "\n",
        " $$H = \\sum_n 4 E_C (n_g - n)^2 |n\\rangle\\langle n| - \\frac{1}{2} E_J \\sum_n(|n+1\\rangle\\langle n| + |n\\rangle\\langle n+1| )$$\n",
        "\n",
        " where $E_C$ is the charge energy, $E_J$ is the Josephson energy, and $| n\\rangle$ is the charge state with $n$ Cooper-pairs on the island that makes up the charge qubit.\n",
        "      \n",
        "\n",
        "    "
      ],
      "metadata": {
        "id": "ovSTcEtkwy43"
      }
    },
    {
      "cell_type": "code",
      "source": [
        "def hamiltonian(Ec, Ej, N, ng):\n",
        "  m= np.diag(4*Ec*(ng- np.arange(-N,N+1))**2) - 0.5 * Ej * (np.diag(-np.ones(2*N), 1) +  np.diag(-np.ones(2*N), -1))\n",
        "  return Qobj(m)\n",
        "\n",
        "def plot_energies(ng_vec, energies, ymax=(20,3)):\n",
        "  fig, axes = plt.subplots(1,2,figsize=(16,6))\n",
        "\n",
        "  for i in range(len(energies[0,:])):\n",
        "    axes[0].plot(ng_vec, energies[:,i])\n",
        "  axes[0].set_ylim(-2, ymax[0])\n",
        "  axes[0].set_xlabel(r'n_g', fontsize=18)\n",
        "  axes[0].set_ylabel(r'E_n', fontsize=18)\n",
        "\n",
        "  for i in range(len(energies[0,:])):\n",
        "    axes[1].plot(ng_vec, (energies[:,i]-energies[:,0])/(energies[:,1]-energies[:,0]))\n",
        "  axes[1].set_ylim(-0.1, ymax[1])\n",
        "  axes[1].set_xlabel(r'n_g', fontsize=18)\n",
        "  axes[1].set_ylabel(r'(E_n-E_0)/(E_1-E_0)', fontsize=18)\n",
        "  return fig, axes\n",
        "\n",
        "def visualize_dynamics(result,ylabel):\n",
        "  fig,ax=plt.subplots(figsize=(12,5))\n",
        "  ax.plot(result.times, result.expect[0])\n",
        "\n",
        "  ax.set_ylabel(ylabel,fontsize=16)\n",
        "  ax.set_xlabel(r't', fontsize=16)\n",
        "\n",
        ""
      ],
      "metadata": {
        "id": "rr248cbGwYY4"
      },
      "execution_count": 5,
      "outputs": []
    },
    {
      "cell_type": "code",
      "source": [],
      "metadata": {
        "id": "-ak_ZQdk1ULL"
      },
      "execution_count": null,
      "outputs": []
    }
  ]
}