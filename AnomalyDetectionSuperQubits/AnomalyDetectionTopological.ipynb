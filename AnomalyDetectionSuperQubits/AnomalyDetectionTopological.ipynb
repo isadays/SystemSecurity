{
  "nbformat": 4,
  "nbformat_minor": 0,
  "metadata": {
    "colab": {
      "provenance": []
    },
    "kernelspec": {
      "name": "python3",
      "display_name": "Python 3"
    },
    "language_info": {
      "name": "python"
    }
  },
  "cells": [
    {
      "cell_type": "code",
      "execution_count": 99,
      "metadata": {
        "id": "0c3G4Kmb4-nY"
      },
      "outputs": [],
      "source": [
        "import numpy as np\n",
        "\n",
        "def generate_training_data(num_samples=105, c=4):\n",
        "    X_train = []\n",
        "    y_train = []\n",
        "\n",
        "    # Define probabilities for winding numbers\n",
        "    probabilities = [0.13, 0.17, 0.20, 0.32, 0.18]\n",
        "    for _ in range(num_samples):\n",
        "        # Generate random coefficients for Fourier series\n",
        "        a_x = np.random.uniform(-1, 1, size=c+1)\n",
        "        b_x = np.random.uniform(-1, 1, size=c+1)\n",
        "        a_y = np.random.uniform(-1, 1, size=c+1)\n",
        "        b_y = np.random.uniform(-1, 1, size=c+1)\n",
        "\n",
        "        # Generate winding number\n",
        "        w = np.random.choice([-2, -1, 0, 1, 2], p=probabilities)\n",
        "\n",
        "        # Append Hamiltonian and winding number to training data\n",
        "        X_train.append((a_x, b_x, a_y, b_y))\n",
        "        y_train.append(w)\n",
        "\n",
        "    return np.array(X_train), np.array(y_train)\n",
        "\n",
        "# Example usage\n",
        "X_train, y_train = generate_training_data(num_samples=1000)"
      ]
    },
    {
      "cell_type": "code",
      "source": [
        "X_train.shape, y_train.shape"
      ],
      "metadata": {
        "colab": {
          "base_uri": "https://localhost:8080/"
        },
        "id": "QVLeR7tgE5ZQ",
        "outputId": "dbc90d60-95f2-4faf-dc2a-5e2972b8d28b"
      },
      "execution_count": 100,
      "outputs": [
        {
          "output_type": "execute_result",
          "data": {
            "text/plain": [
              "((1000, 4, 5), (1000,))"
            ]
          },
          "metadata": {},
          "execution_count": 100
        }
      ]
    },
    {
      "cell_type": "code",
      "source": [
        "from tensorflow.keras.models import Sequential\n",
        "from tensorflow.keras.layers import Dense\n",
        "# Define the fully connected network architecture\n",
        "model = Sequential([\n",
        "    Dense(40, activation='relu', input_shape=(20,)),  # First hidden layer with 40 neurons\n",
        "    Dense(32, activation='relu'),  # Second hidden layer with 32 neurons\n",
        "    Dense(2, activation='linear')  # Output layer with 2 neurons\n",
        "])\n",
        "\n",
        "# Compile the model\n",
        "model.compile(loss='mse', optimizer='adam', metrics=['accuracy'])\n",
        "\n",
        "# Print the model summary\n",
        "model.summary()\n",
        "\n"
      ],
      "metadata": {
        "colab": {
          "base_uri": "https://localhost:8080/"
        },
        "id": "eW6jW-aq5gRF",
        "outputId": "c89fdd02-1a39-4bbd-b9eb-de786dd40ca2"
      },
      "execution_count": 96,
      "outputs": [
        {
          "output_type": "stream",
          "name": "stdout",
          "text": [
            "Model: \"sequential_1\"\n",
            "_________________________________________________________________\n",
            " Layer (type)                Output Shape              Param #   \n",
            "=================================================================\n",
            " dense_3 (Dense)             (None, 40)                840       \n",
            "                                                                 \n",
            " dense_4 (Dense)             (None, 32)                1312      \n",
            "                                                                 \n",
            " dense_5 (Dense)             (None, 2)                 66        \n",
            "                                                                 \n",
            "=================================================================\n",
            "Total params: 2218 (8.66 KB)\n",
            "Trainable params: 2218 (8.66 KB)\n",
            "Non-trainable params: 0 (0.00 Byte)\n",
            "_________________________________________________________________\n"
          ]
        }
      ]
    },
    {
      "cell_type": "code",
      "source": [
        "import tensorflow as tf\n",
        "from tensorflow.keras.models import Sequential\n",
        "from tensorflow.keras.layers import Dense\n",
        "from sklearn.model_selection import train_test_split\n",
        "\n",
        "\n",
        "# Clear the previous TensorFlow session\n",
        "tf.keras.backend.clear_session()\n",
        "\n",
        "# Split the data into train and test sets\n",
        "X_train, X_test, y_train, y_test = train_test_split(X_train, y_train, test_size=0.2, random_state=42)\n",
        "\n",
        "X_train_flat = np.array([sample.flatten().reshape(-1) for sample in X_train])\n",
        "\n",
        "X_test_flat = np.array([sample.flatten().reshape(-1) for sample in X_test])\n",
        "\n",
        "# Compile the model\n",
        "model.compile(loss='mse', optimizer='adam', metrics=['accuracy'])\n",
        "\n",
        "# Train the model\n",
        "history = model.fit(X_train_flat, y_train, epochs=50, batch_size=32, validation_data=(X_test_flat, y_test))"
      ],
      "metadata": {
        "colab": {
          "base_uri": "https://localhost:8080/"
        },
        "id": "lT_e_MTsMk6B",
        "outputId": "f865474d-e1cb-4a75-ba23-9d16bdff9031"
      },
      "execution_count": 103,
      "outputs": [
        {
          "output_type": "stream",
          "name": "stdout",
          "text": [
            "Epoch 1/50\n",
            "20/20 [==============================] - 1s 15ms/step - loss: 1.8813 - accuracy: 0.2484 - val_loss: 1.4786 - val_accuracy: 0.3125\n",
            "Epoch 2/50\n",
            "20/20 [==============================] - 0s 4ms/step - loss: 1.7870 - accuracy: 0.2750 - val_loss: 1.4555 - val_accuracy: 0.3187\n",
            "Epoch 3/50\n",
            "20/20 [==============================] - 0s 4ms/step - loss: 1.7480 - accuracy: 0.2734 - val_loss: 1.4499 - val_accuracy: 0.3000\n",
            "Epoch 4/50\n",
            "20/20 [==============================] - 0s 6ms/step - loss: 1.7233 - accuracy: 0.2812 - val_loss: 1.4518 - val_accuracy: 0.2875\n",
            "Epoch 5/50\n",
            "20/20 [==============================] - 0s 6ms/step - loss: 1.7042 - accuracy: 0.2719 - val_loss: 1.4572 - val_accuracy: 0.3063\n",
            "Epoch 6/50\n",
            "20/20 [==============================] - 0s 5ms/step - loss: 1.6862 - accuracy: 0.2625 - val_loss: 1.4626 - val_accuracy: 0.3125\n",
            "Epoch 7/50\n",
            "20/20 [==============================] - 0s 4ms/step - loss: 1.6675 - accuracy: 0.2562 - val_loss: 1.4643 - val_accuracy: 0.3125\n",
            "Epoch 8/50\n",
            "20/20 [==============================] - 0s 4ms/step - loss: 1.6534 - accuracy: 0.2562 - val_loss: 1.4735 - val_accuracy: 0.3063\n",
            "Epoch 9/50\n",
            "20/20 [==============================] - 0s 5ms/step - loss: 1.6408 - accuracy: 0.2516 - val_loss: 1.4814 - val_accuracy: 0.3250\n",
            "Epoch 10/50\n",
            "20/20 [==============================] - 0s 4ms/step - loss: 1.6177 - accuracy: 0.2469 - val_loss: 1.4848 - val_accuracy: 0.3125\n",
            "Epoch 11/50\n",
            "20/20 [==============================] - 0s 5ms/step - loss: 1.6043 - accuracy: 0.2594 - val_loss: 1.4939 - val_accuracy: 0.3250\n",
            "Epoch 12/50\n",
            "20/20 [==============================] - 0s 4ms/step - loss: 1.5879 - accuracy: 0.2594 - val_loss: 1.4994 - val_accuracy: 0.3313\n",
            "Epoch 13/50\n",
            "20/20 [==============================] - 0s 5ms/step - loss: 1.5714 - accuracy: 0.2484 - val_loss: 1.5090 - val_accuracy: 0.3375\n",
            "Epoch 14/50\n",
            "20/20 [==============================] - 0s 4ms/step - loss: 1.5510 - accuracy: 0.2484 - val_loss: 1.5152 - val_accuracy: 0.3375\n",
            "Epoch 15/50\n",
            "20/20 [==============================] - 0s 4ms/step - loss: 1.5331 - accuracy: 0.2453 - val_loss: 1.5224 - val_accuracy: 0.3250\n",
            "Epoch 16/50\n",
            "20/20 [==============================] - 0s 4ms/step - loss: 1.5147 - accuracy: 0.2406 - val_loss: 1.5395 - val_accuracy: 0.3375\n",
            "Epoch 17/50\n",
            "20/20 [==============================] - 0s 5ms/step - loss: 1.4960 - accuracy: 0.2375 - val_loss: 1.5428 - val_accuracy: 0.3313\n",
            "Epoch 18/50\n",
            "20/20 [==============================] - 0s 5ms/step - loss: 1.4773 - accuracy: 0.2422 - val_loss: 1.5568 - val_accuracy: 0.3500\n",
            "Epoch 19/50\n",
            "20/20 [==============================] - 0s 5ms/step - loss: 1.4552 - accuracy: 0.2422 - val_loss: 1.5627 - val_accuracy: 0.3375\n",
            "Epoch 20/50\n",
            "20/20 [==============================] - 0s 5ms/step - loss: 1.4396 - accuracy: 0.2469 - val_loss: 1.5695 - val_accuracy: 0.3438\n",
            "Epoch 21/50\n",
            "20/20 [==============================] - 0s 4ms/step - loss: 1.4175 - accuracy: 0.2438 - val_loss: 1.5833 - val_accuracy: 0.3500\n",
            "Epoch 22/50\n",
            "20/20 [==============================] - 0s 4ms/step - loss: 1.3927 - accuracy: 0.2578 - val_loss: 1.5963 - val_accuracy: 0.3375\n",
            "Epoch 23/50\n",
            "20/20 [==============================] - 0s 5ms/step - loss: 1.3708 - accuracy: 0.2500 - val_loss: 1.6025 - val_accuracy: 0.3438\n",
            "Epoch 24/50\n",
            "20/20 [==============================] - 0s 4ms/step - loss: 1.3447 - accuracy: 0.2641 - val_loss: 1.6237 - val_accuracy: 0.3438\n",
            "Epoch 25/50\n",
            "20/20 [==============================] - 0s 4ms/step - loss: 1.3228 - accuracy: 0.2656 - val_loss: 1.6461 - val_accuracy: 0.3562\n",
            "Epoch 26/50\n",
            "20/20 [==============================] - 0s 5ms/step - loss: 1.2920 - accuracy: 0.2516 - val_loss: 1.6577 - val_accuracy: 0.3688\n",
            "Epoch 27/50\n",
            "20/20 [==============================] - 0s 5ms/step - loss: 1.2667 - accuracy: 0.2672 - val_loss: 1.6871 - val_accuracy: 0.3688\n",
            "Epoch 28/50\n",
            "20/20 [==============================] - 0s 5ms/step - loss: 1.2444 - accuracy: 0.2562 - val_loss: 1.7091 - val_accuracy: 0.3625\n",
            "Epoch 29/50\n",
            "20/20 [==============================] - 0s 5ms/step - loss: 1.2183 - accuracy: 0.2531 - val_loss: 1.7146 - val_accuracy: 0.3688\n",
            "Epoch 30/50\n",
            "20/20 [==============================] - 0s 4ms/step - loss: 1.1900 - accuracy: 0.2547 - val_loss: 1.7351 - val_accuracy: 0.3688\n",
            "Epoch 31/50\n",
            "20/20 [==============================] - 0s 4ms/step - loss: 1.1672 - accuracy: 0.2562 - val_loss: 1.7709 - val_accuracy: 0.3625\n",
            "Epoch 32/50\n",
            "20/20 [==============================] - 0s 4ms/step - loss: 1.1463 - accuracy: 0.2594 - val_loss: 1.7749 - val_accuracy: 0.3750\n",
            "Epoch 33/50\n",
            "20/20 [==============================] - 0s 5ms/step - loss: 1.1204 - accuracy: 0.2562 - val_loss: 1.8046 - val_accuracy: 0.3562\n",
            "Epoch 34/50\n",
            "20/20 [==============================] - 0s 4ms/step - loss: 1.0901 - accuracy: 0.2516 - val_loss: 1.8196 - val_accuracy: 0.3812\n",
            "Epoch 35/50\n",
            "20/20 [==============================] - 0s 4ms/step - loss: 1.0617 - accuracy: 0.2625 - val_loss: 1.8664 - val_accuracy: 0.3625\n",
            "Epoch 36/50\n",
            "20/20 [==============================] - 0s 4ms/step - loss: 1.0356 - accuracy: 0.2547 - val_loss: 1.8856 - val_accuracy: 0.3688\n",
            "Epoch 37/50\n",
            "20/20 [==============================] - 0s 7ms/step - loss: 1.0097 - accuracy: 0.2547 - val_loss: 1.8976 - val_accuracy: 0.3500\n",
            "Epoch 38/50\n",
            "20/20 [==============================] - 0s 5ms/step - loss: 0.9890 - accuracy: 0.2516 - val_loss: 1.9335 - val_accuracy: 0.3625\n",
            "Epoch 39/50\n",
            "20/20 [==============================] - 0s 4ms/step - loss: 0.9622 - accuracy: 0.2547 - val_loss: 1.9382 - val_accuracy: 0.3500\n",
            "Epoch 40/50\n",
            "20/20 [==============================] - 0s 5ms/step - loss: 0.9432 - accuracy: 0.2516 - val_loss: 1.9766 - val_accuracy: 0.3625\n",
            "Epoch 41/50\n",
            "20/20 [==============================] - 0s 5ms/step - loss: 0.9210 - accuracy: 0.2484 - val_loss: 1.9878 - val_accuracy: 0.3625\n",
            "Epoch 42/50\n",
            "20/20 [==============================] - 0s 5ms/step - loss: 0.8962 - accuracy: 0.2453 - val_loss: 2.0154 - val_accuracy: 0.3562\n",
            "Epoch 43/50\n",
            "20/20 [==============================] - 0s 4ms/step - loss: 0.8759 - accuracy: 0.2516 - val_loss: 2.0454 - val_accuracy: 0.3625\n",
            "Epoch 44/50\n",
            "20/20 [==============================] - 0s 5ms/step - loss: 0.8547 - accuracy: 0.2453 - val_loss: 2.0572 - val_accuracy: 0.3562\n",
            "Epoch 45/50\n",
            "20/20 [==============================] - 0s 5ms/step - loss: 0.8336 - accuracy: 0.2375 - val_loss: 2.1028 - val_accuracy: 0.3625\n",
            "Epoch 46/50\n",
            "20/20 [==============================] - 0s 5ms/step - loss: 0.8141 - accuracy: 0.2391 - val_loss: 2.0995 - val_accuracy: 0.3688\n",
            "Epoch 47/50\n",
            "20/20 [==============================] - 0s 4ms/step - loss: 0.7890 - accuracy: 0.2328 - val_loss: 2.1088 - val_accuracy: 0.3625\n",
            "Epoch 48/50\n",
            "20/20 [==============================] - 0s 5ms/step - loss: 0.7745 - accuracy: 0.2406 - val_loss: 2.1485 - val_accuracy: 0.3625\n",
            "Epoch 49/50\n",
            "20/20 [==============================] - 0s 4ms/step - loss: 0.7549 - accuracy: 0.2406 - val_loss: 2.1678 - val_accuracy: 0.3625\n",
            "Epoch 50/50\n",
            "20/20 [==============================] - 0s 6ms/step - loss: 0.7387 - accuracy: 0.2484 - val_loss: 2.1938 - val_accuracy: 0.3625\n"
          ]
        }
      ]
    },
    {
      "cell_type": "code",
      "source": [
        "# Evaluate the model on the training data\n",
        "loss, accuracy = model.evaluate(X_train_flat, y_train)\n",
        "print(\"Training Loss:\", loss)\n",
        "print(\"Training Accuracy:\", accuracy)\n",
        "\n",
        "# Evaluate the model on the test data (assuming you have X_test_flat and y_test)\n",
        "loss, accuracy = model.evaluate(X_test_flat, y_test)\n",
        "print(\"Test Loss:\", loss)\n",
        "print(\"Test Accuracy:\", accuracy)\n"
      ],
      "metadata": {
        "colab": {
          "base_uri": "https://localhost:8080/"
        },
        "id": "gawZVRV_9vta",
        "outputId": "24bebdc4-e0e8-44ba-daa9-31bfc8a062a9"
      },
      "execution_count": 104,
      "outputs": [
        {
          "output_type": "stream",
          "name": "stdout",
          "text": [
            "20/20 [==============================] - 0s 8ms/step - loss: 0.7092 - accuracy: 0.2328\n",
            "Training Loss: 0.7092471718788147\n",
            "Training Accuracy: 0.23281249403953552\n",
            "5/5 [==============================] - 0s 5ms/step - loss: 2.1938 - accuracy: 0.3625\n",
            "Test Loss: 2.1938490867614746\n",
            "Test Accuracy: 0.36250001192092896\n"
          ]
        }
      ]
    }
  ]
}